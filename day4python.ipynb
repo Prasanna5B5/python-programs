{
 "cells": [
  {
   "cell_type": "markdown",
   "metadata": {},
   "source": [
    "# File handling in python"
   ]
  },
  {
   "cell_type": "code",
   "execution_count": 1,
   "metadata": {},
   "outputs": [],
   "source": [
    "#to open,close,append in the file we use file handling"
   ]
  },
  {
   "cell_type": "code",
   "execution_count": 3,
   "metadata": {},
   "outputs": [],
   "source": [
    "#create a file\n",
    "abc=open(\"helloworld!.txt\",\"w\")\n",
    "abc.write(\"hey guys this is our first file\")\n",
    "abc.close()"
   ]
  },
  {
   "cell_type": "code",
   "execution_count": 4,
   "metadata": {},
   "outputs": [],
   "source": [
    "abc=open(\"helloworld!.txt\",\"r\")\n",
    "content=abc.read()\n",
    "abc.close()"
   ]
  },
  {
   "cell_type": "code",
   "execution_count": 5,
   "metadata": {},
   "outputs": [
    {
     "data": {
      "text/plain": [
       "'hey guys this is our first file'"
      ]
     },
     "execution_count": 5,
     "metadata": {},
     "output_type": "execute_result"
    }
   ],
   "source": [
    "content"
   ]
  },
  {
   "cell_type": "code",
   "execution_count": 6,
   "metadata": {},
   "outputs": [],
   "source": [
    "# what are the modes?\n",
    "#'r','w','w+','a','a+','r+'"
   ]
  },
  {
   "cell_type": "code",
   "execution_count": 7,
   "metadata": {},
   "outputs": [],
   "source": [
    "# r is used for reading only\n",
    "# w is used for writing only\n",
    "# a is used for appending or adding something to the file\n",
    "# r+ is used for writing and reading together"
   ]
  },
  {
   "cell_type": "code",
   "execution_count": 8,
   "metadata": {},
   "outputs": [],
   "source": [
    "xyz=open(\"hi.txt\",'w')\n",
    "xyz.write(\"hello guys\")\n",
    "xyz.close()"
   ]
  },
  {
   "cell_type": "code",
   "execution_count": 9,
   "metadata": {},
   "outputs": [],
   "source": [
    "xyz=open(\"hi.txt\",'a')\n",
    "xyz.write(\"u r beatiful\")\n",
    "xyz.close()"
   ]
  },
  {
   "cell_type": "code",
   "execution_count": 10,
   "metadata": {},
   "outputs": [],
   "source": [
    "xyz=open(\"hi.txt\",'r')\n",
    "x=xyz.read()\n",
    "xyz.close()"
   ]
  },
  {
   "cell_type": "code",
   "execution_count": 11,
   "metadata": {},
   "outputs": [
    {
     "data": {
      "text/plain": [
       "'hello guysu r beatiful'"
      ]
     },
     "execution_count": 11,
     "metadata": {},
     "output_type": "execute_result"
    }
   ],
   "source": [
    "x"
   ]
  },
  {
   "cell_type": "code",
   "execution_count": 12,
   "metadata": {},
   "outputs": [
    {
     "name": "stdout",
     "output_type": "stream",
     "text": [
      "hello guysu r beatiful\n"
     ]
    }
   ],
   "source": [
    "xyz=open(\"hi.txt\",'r+')\n",
    "print(xyz.read())\n",
    "xyz.write(\"we are updating the sentence\")\n",
    "xyz.close()"
   ]
  },
  {
   "cell_type": "markdown",
   "metadata": {},
   "source": [
    "# Functions"
   ]
  },
  {
   "cell_type": "code",
   "execution_count": 13,
   "metadata": {},
   "outputs": [],
   "source": [
    "#function ->\n",
    "def func():\n",
    "    print(\"Hey guys\")\n",
    "    print(\"How r u ?\")\n",
    "    print(\"From which location u r ?\")\n",
    "    print(\"regards, Letsupgrade\")"
   ]
  },
  {
   "cell_type": "code",
   "execution_count": 14,
   "metadata": {},
   "outputs": [
    {
     "name": "stdout",
     "output_type": "stream",
     "text": [
      "Hey guys\n",
      "How r u ?\n",
      "From which location u r ?\n",
      "regards, Letsupgrade\n"
     ]
    }
   ],
   "source": [
    "func()"
   ]
  },
  {
   "cell_type": "code",
   "execution_count": 15,
   "metadata": {},
   "outputs": [],
   "source": [
    "def func1(name):\n",
    "    print(\"Hey guys\",name)\n",
    "    print(\"How r u ?\")\n",
    "    print(\"From which location u r ?\")\n",
    "    print(\"regards, Letsupgrade\")"
   ]
  },
  {
   "cell_type": "code",
   "execution_count": 16,
   "metadata": {},
   "outputs": [
    {
     "name": "stdout",
     "output_type": "stream",
     "text": [
      "Hey guys prasanna\n",
      "How r u ?\n",
      "From which location u r ?\n",
      "regards, Letsupgrade\n"
     ]
    }
   ],
   "source": [
    "func1(\"prasanna\")"
   ]
  },
  {
   "cell_type": "code",
   "execution_count": 17,
   "metadata": {},
   "outputs": [
    {
     "name": "stdout",
     "output_type": "stream",
     "text": [
      "Hey guys prasanna , amazing job\n",
      "How r u ?\n",
      "From which location u r ?\n",
      "regards, Letsupgrade\n"
     ]
    }
   ],
   "source": [
    "func1(\"prasanna , amazing job\")"
   ]
  },
  {
   "cell_type": "code",
   "execution_count": 18,
   "metadata": {},
   "outputs": [],
   "source": [
    "def func2(name,comment):\n",
    "    print(\"Hey guys\",name)\n",
    "    print(\"How r u ?\")\n",
    "    print(\"From which location u r ?\")\n",
    "    print(\"regards, Letsupgrade\")\n",
    "    print(\"comment\",comment)"
   ]
  },
  {
   "cell_type": "code",
   "execution_count": 19,
   "metadata": {},
   "outputs": [
    {
     "name": "stdout",
     "output_type": "stream",
     "text": [
      "Hey guys prasanna\n",
      "How r u ?\n",
      "From which location u r ?\n",
      "regards, Letsupgrade\n",
      "comment good job\n"
     ]
    }
   ],
   "source": [
    "func2(\"prasanna\",\"good job\")"
   ]
  },
  {
   "cell_type": "code",
   "execution_count": 20,
   "metadata": {},
   "outputs": [],
   "source": [
    "def calculator(a,b,ops):\n",
    "    if ops=='+':\n",
    "        return a+b\n",
    "    elif ops=='-':\n",
    "        return a-b\n",
    "    elif ops=='*':\n",
    "        return a*b\n",
    "    elif ops=='/':\n",
    "        return a/b\n",
    "    elif ops=='%':\n",
    "        return a%b\n",
    "    else:\n",
    "        print(\"invalid input of ops\")\n",
    "    "
   ]
  },
  {
   "cell_type": "code",
   "execution_count": 23,
   "metadata": {},
   "outputs": [
    {
     "data": {
      "text/plain": [
       "2"
      ]
     },
     "execution_count": 23,
     "metadata": {},
     "output_type": "execute_result"
    }
   ],
   "source": [
    "calculator(1,2,'*')"
   ]
  },
  {
   "cell_type": "code",
   "execution_count": 24,
   "metadata": {},
   "outputs": [],
   "source": [
    "#global variables and local variables\n",
    "name = \"LetsUpgrade\"\n",
    "def fun():\n",
    "    name=\"prasanna\"\n",
    "    print(name)"
   ]
  },
  {
   "cell_type": "code",
   "execution_count": 25,
   "metadata": {},
   "outputs": [
    {
     "name": "stdout",
     "output_type": "stream",
     "text": [
      "prasanna\n"
     ]
    }
   ],
   "source": [
    "fun()"
   ]
  },
  {
   "cell_type": "code",
   "execution_count": 26,
   "metadata": {},
   "outputs": [
    {
     "name": "stdout",
     "output_type": "stream",
     "text": [
      "LetsUpgrade\n"
     ]
    }
   ],
   "source": [
    "name = \"LetsUpgrade\"\n",
    "def fun():\n",
    "    name=\"prasanna\"\n",
    "print(name)"
   ]
  },
  {
   "cell_type": "code",
   "execution_count": 27,
   "metadata": {},
   "outputs": [
    {
     "name": "stdout",
     "output_type": "stream",
     "text": [
      "LetsUpgrade\n"
     ]
    }
   ],
   "source": [
    "name = \"LetsUpgrade\"\n",
    "def fun():\n",
    "    name=\"prasanna\"\n",
    "    print(name)\n",
    "print(name)    \n",
    "    "
   ]
  },
  {
   "cell_type": "markdown",
   "metadata": {},
   "source": [
    "# Modules"
   ]
  },
  {
   "cell_type": "code",
   "execution_count": null,
   "metadata": {},
   "outputs": [],
   "source": [
    "#libraries"
   ]
  }
 ],
 "metadata": {
  "kernelspec": {
   "display_name": "Python 3",
   "language": "python",
   "name": "python3"
  },
  "language_info": {
   "codemirror_mode": {
    "name": "ipython",
    "version": 3
   },
   "file_extension": ".py",
   "mimetype": "text/x-python",
   "name": "python",
   "nbconvert_exporter": "python",
   "pygments_lexer": "ipython3",
   "version": "3.8.5"
  }
 },
 "nbformat": 4,
 "nbformat_minor": 4
}
