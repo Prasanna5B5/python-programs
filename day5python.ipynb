{
 "cells": [
  {
   "cell_type": "markdown",
   "metadata": {},
   "source": [
    "# Modules and packages"
   ]
  },
  {
   "cell_type": "raw",
   "metadata": {},
   "source": [
    "#these are python files which are used for importing some special function\n",
    "\n",
    "#they contain the same extension .pyfor the files to be  imported\n",
    "\n",
    "#a group modules/ .py files which can be imported are known as packages\n",
    "\n",
    "#PyPi.org we can get all  python libraries which are been hosted by third party people"
   ]
  },
  {
   "cell_type": "code",
   "execution_count": 1,
   "metadata": {},
   "outputs": [],
   "source": [
    "#case1 importing modules from PyPi.org"
   ]
  },
  {
   "cell_type": "code",
   "execution_count": 4,
   "metadata": {},
   "outputs": [
    {
     "name": "stdout",
     "output_type": "stream",
     "text": [
      "Requirement already satisfied: xlwt in c:\\users\\lenovo\\anaconda3\\lib\\site-packages (1.3.0)Note: you may need to restart the kernel to use updated packages.\n",
      "\n"
     ]
    }
   ],
   "source": [
    "pip install xlwt"
   ]
  },
  {
   "cell_type": "code",
   "execution_count": 11,
   "metadata": {},
   "outputs": [],
   "source": [
    "import xlwt\n",
    "\n",
    "wb = xlwt.Workbook()\n",
    "ws = wb.add_sheet('Prasanna')\n",
    "\n",
    "ws.write(2, 0, \"rani\")\n",
    "ws.write(2, 1, \"jayaram\")\n",
    "ws.write(3, 0, \"siri\")\n",
    "\n",
    "wb.save('reddy.xls')"
   ]
  },
  {
   "cell_type": "code",
   "execution_count": 12,
   "metadata": {},
   "outputs": [
    {
     "data": {
      "text/plain": [
       "['ANTLRException',\n",
       " 'Alignment',\n",
       " 'BIFFRecords',\n",
       " 'Bitmap',\n",
       " 'Borders',\n",
       " 'Cell',\n",
       " 'Column',\n",
       " 'CompoundDoc',\n",
       " 'ExcelFormula',\n",
       " 'ExcelFormulaLexer',\n",
       " 'ExcelFormulaParser',\n",
       " 'ExcelMagic',\n",
       " 'Font',\n",
       " 'Formatting',\n",
       " 'Formula',\n",
       " 'Pattern',\n",
       " 'Protection',\n",
       " 'Row',\n",
       " 'Style',\n",
       " 'UnicodeUtils',\n",
       " 'Utils',\n",
       " 'Workbook',\n",
       " 'Worksheet',\n",
       " 'XFStyle',\n",
       " '__VERSION__',\n",
       " '__builtins__',\n",
       " '__cached__',\n",
       " '__doc__',\n",
       " '__file__',\n",
       " '__loader__',\n",
       " '__name__',\n",
       " '__package__',\n",
       " '__path__',\n",
       " '__spec__',\n",
       " 'add_palette_colour',\n",
       " 'antlr',\n",
       " 'compat',\n",
       " 'easyfont',\n",
       " 'easyxf',\n",
       " 'struct']"
      ]
     },
     "execution_count": 12,
     "metadata": {},
     "output_type": "execute_result"
    }
   ],
   "source": [
    "dir(xlwt)"
   ]
  },
  {
   "cell_type": "markdown",
   "metadata": {},
   "source": [
    "# how to create a module and package\n"
   ]
  },
  {
   "cell_type": "code",
   "execution_count": 13,
   "metadata": {},
   "outputs": [
    {
     "name": "stdout",
     "output_type": "stream",
     "text": [
      "Writing module1.py\n"
     ]
    }
   ],
   "source": [
    "%%writefile module1.py\n",
    "\n",
    "def hey():\n",
    "    print(\"hey guys hello\")"
   ]
  },
  {
   "cell_type": "code",
   "execution_count": 14,
   "metadata": {},
   "outputs": [
    {
     "name": "stdout",
     "output_type": "stream",
     "text": [
      "hey guys hello\n"
     ]
    }
   ],
   "source": [
    "import module1\n",
    "\n",
    "module1.hey()"
   ]
  },
  {
   "cell_type": "code",
   "execution_count": 15,
   "metadata": {},
   "outputs": [
    {
     "name": "stdout",
     "output_type": "stream",
     "text": [
      "Writing module2.py\n"
     ]
    }
   ],
   "source": [
    "%%writefile module2.py\n",
    "\n",
    "def heywithname(name):\n",
    "    print(\"hey \", name, \" you are amazing !!\")"
   ]
  },
  {
   "cell_type": "code",
   "execution_count": 16,
   "metadata": {},
   "outputs": [
    {
     "name": "stdout",
     "output_type": "stream",
     "text": [
      "hey  rani  you are amazing !!\n"
     ]
    }
   ],
   "source": [
    "import module2\n",
    "module2.heywithname(\"rani\")"
   ]
  },
  {
   "cell_type": "code",
   "execution_count": 17,
   "metadata": {},
   "outputs": [
    {
     "name": "stdout",
     "output_type": "stream",
     "text": [
      "hey  jayaram  you are amazing !!\n"
     ]
    }
   ],
   "source": [
    "module2.heywithname(\"jayaram\")"
   ]
  },
  {
   "cell_type": "code",
   "execution_count": 18,
   "metadata": {},
   "outputs": [
    {
     "name": "stdout",
     "output_type": "stream",
     "text": [
      "hey guys hello\n"
     ]
    }
   ],
   "source": [
    "from modules import module1\n",
    "module1.hey()"
   ]
  },
  {
   "cell_type": "markdown",
   "metadata": {},
   "source": [
    "# "
   ]
  }
 ],
 "metadata": {
  "kernelspec": {
   "display_name": "Python 3",
   "language": "python",
   "name": "python3"
  },
  "language_info": {
   "codemirror_mode": {
    "name": "ipython",
    "version": 3
   },
   "file_extension": ".py",
   "mimetype": "text/x-python",
   "name": "python",
   "nbconvert_exporter": "python",
   "pygments_lexer": "ipython3",
   "version": "3.8.5"
  }
 },
 "nbformat": 4,
 "nbformat_minor": 4
}
