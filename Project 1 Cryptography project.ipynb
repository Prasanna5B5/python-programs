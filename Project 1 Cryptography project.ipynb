{
 "cells": [
  {
   "cell_type": "code",
   "execution_count": 1,
   "metadata": {},
   "outputs": [],
   "source": [
    "#what is cryptography?"
   ]
  },
  {
   "cell_type": "code",
   "execution_count": 2,
   "metadata": {},
   "outputs": [],
   "source": [
    "# crypotography is nothing but change plain message into some thing which cannot understandable by any one else. \n",
    "#until/unless they donnot have the code"
   ]
  },
  {
   "cell_type": "code",
   "execution_count": 3,
   "metadata": {},
   "outputs": [],
   "source": [
    "#cipher text\n",
    "\n",
    "# text which is result of encryption is known as Cipher text"
   ]
  },
  {
   "cell_type": "code",
   "execution_count": 4,
   "metadata": {},
   "outputs": [],
   "source": [
    "#encryption\n",
    "\n",
    "# converting a palin message to secret message is known as encryption"
   ]
  },
  {
   "cell_type": "code",
   "execution_count": 5,
   "metadata": {},
   "outputs": [],
   "source": [
    "#decryption\n",
    "\n",
    "#converting back secret message into plain message is known as decryption"
   ]
  },
  {
   "cell_type": "markdown",
   "metadata": {},
   "source": [
    "# Write a python program which converts,Any given Text to Chiper Text and when every key is available it should convert it back to the normal message"
   ]
  },
  {
   "cell_type": "markdown",
   "metadata": {},
   "source": [
    "step 1 -> which library to use to convert a normal text to cipher text"
   ]
  },
  {
   "cell_type": "markdown",
   "metadata": {},
   "source": [
    "step 2->take input from user and convert it to cipher text"
   ]
  },
  {
   "cell_type": "markdown",
   "metadata": {},
   "source": [
    "step 3->display back the cipher text to user"
   ]
  },
  {
   "cell_type": "markdown",
   "metadata": {},
   "source": [
    "step 4->load the key and if the key is same, based upon the input provided, convert it to normal text"
   ]
  },
  {
   "cell_type": "code",
   "execution_count": 6,
   "metadata": {},
   "outputs": [
    {
     "name": "stdout",
     "output_type": "stream",
     "text": [
      "Requirement already satisfied: cryptography in c:\\users\\lenovo\\anaconda3\\lib\\site-packages (3.1.1)\n",
      "Requirement already satisfied: cffi!=1.11.3,>=1.8 in c:\\users\\lenovo\\anaconda3\\lib\\site-packages (from cryptography) (1.14.3)\n",
      "Requirement already satisfied: six>=1.4.1 in c:\\users\\lenovo\\anaconda3\\lib\\site-packages (from cryptography) (1.15.0)\n",
      "Requirement already satisfied: pycparser in c:\\users\\lenovo\\anaconda3\\lib\\site-packages (from cffi!=1.11.3,>=1.8->cryptography) (2.20)\n"
     ]
    }
   ],
   "source": [
    "!pip install cryptography"
   ]
  },
  {
   "cell_type": "code",
   "execution_count": 7,
   "metadata": {},
   "outputs": [],
   "source": [
    "from cryptography.fernet import Fernet"
   ]
  },
  {
   "cell_type": "code",
   "execution_count": 12,
   "metadata": {},
   "outputs": [],
   "source": [
    "def generatePassKey():\n",
    "    key=Fernet.generate_key()\n",
    "    print(key)\n",
    "    type(key)\n",
    "    abc = open(\"password.key\",'wb')\n",
    "    abc.write(key)\n",
    "    abc.close()"
   ]
  },
  {
   "cell_type": "code",
   "execution_count": 13,
   "metadata": {},
   "outputs": [
    {
     "name": "stdout",
     "output_type": "stream",
     "text": [
      "b'4isdxTAjGV_Z3mrjFh7dvGqnQS6Rr7DUwcmGO-nZwgQ='\n"
     ]
    }
   ],
   "source": [
    "generatePassKey()"
   ]
  },
  {
   "cell_type": "code",
   "execution_count": 14,
   "metadata": {},
   "outputs": [],
   "source": [
    "def getMyKey():\n",
    "    abc=open(\"password.key\",'rb')\n",
    "    return abc.read()"
   ]
  },
  {
   "cell_type": "code",
   "execution_count": 15,
   "metadata": {},
   "outputs": [
    {
     "data": {
      "text/plain": [
       "b'4isdxTAjGV_Z3mrjFh7dvGqnQS6Rr7DUwcmGO-nZwgQ='"
      ]
     },
     "execution_count": 15,
     "metadata": {},
     "output_type": "execute_result"
    }
   ],
   "source": [
    "getMyKey()"
   ]
  },
  {
   "cell_type": "code",
   "execution_count": 16,
   "metadata": {},
   "outputs": [],
   "source": [
    "def getContentFromUser():\n",
    "    return input(\"enter the content you want to encrypt in your python Script\")"
   ]
  },
  {
   "cell_type": "code",
   "execution_count": 17,
   "metadata": {},
   "outputs": [
    {
     "name": "stdout",
     "output_type": "stream",
     "text": [
      "enter the content you want to encrypt in your python Scripthi guys\n"
     ]
    },
    {
     "data": {
      "text/plain": [
       "'hi guys'"
      ]
     },
     "execution_count": 17,
     "metadata": {},
     "output_type": "execute_result"
    }
   ],
   "source": [
    "getContentFromUser()"
   ]
  },
  {
   "cell_type": "code",
   "execution_count": 18,
   "metadata": {},
   "outputs": [],
   "source": [
    "def encryptMessage(message_normal):\n",
    "    key=getMyKey()\n",
    "    k=Fernet(key)\n",
    "    encrypted_Message=k.encrypt(message_normal)\n",
    "    return encrypted_Message"
   ]
  },
  {
   "cell_type": "code",
   "execution_count": 19,
   "metadata": {},
   "outputs": [
    {
     "data": {
      "text/plain": [
       "b'gAAAAABf2g9LDX2qP05aGQHiHDHbm3zQHwtP2bWKnae0YZtv7ZMau-67OckO8sps7hHNwEMyJps2Y6TYpPvJX7d983gd1zoAlA=='"
      ]
     },
     "execution_count": 19,
     "metadata": {},
     "output_type": "execute_result"
    }
   ],
   "source": [
    "encryptMessage(b\"Hey\")"
   ]
  },
  {
   "cell_type": "code",
   "execution_count": 23,
   "metadata": {},
   "outputs": [],
   "source": [
    "def decryptMessage(message_secert):\n",
    "    key=getMyKey()\n",
    "    k=Fernet(key)\n",
    "    decrypted_Message=k.decrypt(message_secert)\n",
    "    return decrypted_Message"
   ]
  },
  {
   "cell_type": "code",
   "execution_count": 24,
   "metadata": {},
   "outputs": [
    {
     "data": {
      "text/plain": [
       "b'Hey'"
      ]
     },
     "execution_count": 24,
     "metadata": {},
     "output_type": "execute_result"
    }
   ],
   "source": [
    "decryptMessage(b'gAAAAABf2g9LDX2qP05aGQHiHDHbm3zQHwtP2bWKnae0YZtv7ZMau-67OckO8sps7hHNwEMyJps2Y6TYpPvJX7d983gd1zoAlA==')"
   ]
  },
  {
   "cell_type": "code",
   "execution_count": null,
   "metadata": {},
   "outputs": [],
   "source": []
  }
 ],
 "metadata": {
  "kernelspec": {
   "display_name": "Python 3",
   "language": "python",
   "name": "python3"
  },
  "language_info": {
   "codemirror_mode": {
    "name": "ipython",
    "version": 3
   },
   "file_extension": ".py",
   "mimetype": "text/x-python",
   "name": "python",
   "nbconvert_exporter": "python",
   "pygments_lexer": "ipython3",
   "version": "3.8.5"
  }
 },
 "nbformat": 4,
 "nbformat_minor": 4
}
