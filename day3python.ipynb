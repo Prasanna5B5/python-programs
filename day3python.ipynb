{
 "cells": [
  {
   "cell_type": "markdown",
   "metadata": {},
   "source": [
    "# if else and elif cont."
   ]
  },
  {
   "cell_type": "code",
   "execution_count": 1,
   "metadata": {},
   "outputs": [],
   "source": [
    "#conditional operator"
   ]
  },
  {
   "cell_type": "raw",
   "metadata": {},
   "source": [
    "1.equal to         ->      ==\n",
    "2.not equal        ->      =!\n",
    "3.greater than     ->      >\n",
    "4.less than        ->      <\n",
    "5.greater than equal to -> >=\n",
    "6.less than equals to   -> <="
   ]
  },
  {
   "cell_type": "code",
   "execution_count": 2,
   "metadata": {},
   "outputs": [],
   "source": [
    "a=3\n",
    "b=4"
   ]
  },
  {
   "cell_type": "code",
   "execution_count": 3,
   "metadata": {},
   "outputs": [
    {
     "name": "stdout",
     "output_type": "stream",
     "text": [
      "less\n"
     ]
    }
   ],
   "source": [
    "if a==b :\n",
    "    print(\"equal\")\n",
    "elif a>b:\n",
    "    print(\"grater\")\n",
    "else:\n",
    "    print(\"less\")"
   ]
  },
  {
   "cell_type": "code",
   "execution_count": 4,
   "metadata": {},
   "outputs": [],
   "source": [
    "a=4\n",
    "b=4"
   ]
  },
  {
   "cell_type": "code",
   "execution_count": 5,
   "metadata": {},
   "outputs": [
    {
     "name": "stdout",
     "output_type": "stream",
     "text": [
      "equal\n"
     ]
    }
   ],
   "source": [
    "if a==b:\n",
    "    print(\"equal\")"
   ]
  },
  {
   "cell_type": "code",
   "execution_count": 6,
   "metadata": {},
   "outputs": [
    {
     "name": "stdout",
     "output_type": "stream",
     "text": [
      "greater than are equal to\n"
     ]
    }
   ],
   "source": [
    "if a>=b:\n",
    "    print(\"greater than are equal to\")"
   ]
  },
  {
   "cell_type": "code",
   "execution_count": 7,
   "metadata": {},
   "outputs": [],
   "source": [
    "marks=45"
   ]
  },
  {
   "cell_type": "code",
   "execution_count": 8,
   "metadata": {},
   "outputs": [
    {
     "name": "stdout",
     "output_type": "stream",
     "text": [
      "grade c\n"
     ]
    }
   ],
   "source": [
    "if marks>=90:\n",
    "    print(\"grade a\")\n",
    "elif marks>=60 and marks<90:\n",
    "    print(\"grade b\")\n",
    "elif marks>=40 and marks<60:\n",
    "    print(\"grade c\")\n",
    "else:\n",
    "    print(\"fail\")"
   ]
  },
  {
   "cell_type": "markdown",
   "metadata": {},
   "source": [
    "# looping"
   ]
  },
  {
   "cell_type": "code",
   "execution_count": 9,
   "metadata": {},
   "outputs": [],
   "source": [
    "# for repeating some task for multiple times"
   ]
  },
  {
   "cell_type": "code",
   "execution_count": 10,
   "metadata": {},
   "outputs": [],
   "source": [
    "lst=[\"prasanna\",\"rani\",\"jayaram\",\"siri\",\"sunil\"]"
   ]
  },
  {
   "cell_type": "code",
   "execution_count": 11,
   "metadata": {},
   "outputs": [
    {
     "name": "stdout",
     "output_type": "stream",
     "text": [
      "hello, prasanna good evening\n",
      "hello, rani good evening\n",
      "hello, jayaram good evening\n",
      "hello, siri good evening\n",
      "hello, sunil good evening\n"
     ]
    }
   ],
   "source": [
    "for item in lst:\n",
    "    print(\"hello,\", item,\"good evening\")"
   ]
  },
  {
   "cell_type": "code",
   "execution_count": 16,
   "metadata": {},
   "outputs": [
    {
     "name": "stdout",
     "output_type": "stream",
     "text": [
      "hello, prasanna good evening\n",
      "hello, rani good evening\n",
      "hello, jayaram good evening\n",
      "hello, siri good evening\n",
      "hello, sunil good evening\n"
     ]
    }
   ],
   "source": [
    "for name in lst:\n",
    "    print(\"hello,\" ,name,\"good evening\")"
   ]
  },
  {
   "cell_type": "markdown",
   "metadata": {},
   "source": [
    "for name in lst:\n",
    "     print(\"hello,\",name,\"good evening\")\n",
    "1.for is a reserved keyword in python for the looping which is used for looping iteratable objects.    \n",
    "2.name -> name is a variable which can store things witheach iteration.\n",
    "3.in ->is a reserved keyword in python which is used for the address getting part\n",
    "4.lst ->iteratable objects\n",
    "5.identation ->which is used to diff sub body of the for loop\n",
    "6.statement->which we want to repeat"
   ]
  },
  {
   "cell_type": "code",
   "execution_count": 17,
   "metadata": {},
   "outputs": [
    {
     "name": "stdout",
     "output_type": "stream",
     "text": [
      "1\n",
      "2\n",
      "3\n",
      "4\n",
      "5\n",
      "6\n",
      "7\n",
      "8\n",
      "9\n"
     ]
    }
   ],
   "source": [
    "for item in range(1,10):\n",
    "    print(item)"
   ]
  },
  {
   "cell_type": "code",
   "execution_count": 1,
   "metadata": {},
   "outputs": [
    {
     "name": "stdout",
     "output_type": "stream",
     "text": [
      "1\n",
      "2\n",
      "3\n",
      "4\n",
      "5\n",
      "6\n",
      "7\n",
      "8\n",
      "9\n",
      "the for loop is created\n"
     ]
    }
   ],
   "source": [
    "for item in range(1,10):\n",
    "    print(item)\n",
    "else:\n",
    "    print(\"the for loop is created\")"
   ]
  },
  {
   "cell_type": "code",
   "execution_count": 6,
   "metadata": {},
   "outputs": [
    {
     "data": {
      "text/plain": [
       "[-10, -8, -6, -4, -2, 0, 2, 4, 6, 8]"
      ]
     },
     "execution_count": 6,
     "metadata": {},
     "output_type": "execute_result"
    }
   ],
   "source": [
    "list(range(-10,10,2))"
   ]
  },
  {
   "cell_type": "code",
   "execution_count": 7,
   "metadata": {},
   "outputs": [
    {
     "data": {
      "text/plain": [
       "[1, 2, 3, 4, 5, 6, 7, 8, 9]"
      ]
     },
     "execution_count": 7,
     "metadata": {},
     "output_type": "execute_result"
    }
   ],
   "source": [
    "a=1\n",
    "b=10\n",
    "list(range(a,b))"
   ]
  },
  {
   "cell_type": "markdown",
   "metadata": {},
   "source": [
    "# while loop"
   ]
  },
  {
   "cell_type": "code",
   "execution_count": 8,
   "metadata": {},
   "outputs": [],
   "source": [
    "#this is again a type of loop to run from start to end,wherethe user is not having the end point specified"
   ]
  },
  {
   "cell_type": "code",
   "execution_count": 16,
   "metadata": {},
   "outputs": [
    {
     "name": "stdout",
     "output_type": "stream",
     "text": [
      "0\n",
      "1\n",
      "2\n",
      "3\n",
      "4\n",
      "5\n",
      "6\n",
      "7\n",
      "8\n",
      "9\n"
     ]
    }
   ],
   "source": [
    "a=0\n",
    "while a<10:\n",
    "    print(a)\n",
    "    a=a+1"
   ]
  },
  {
   "cell_type": "code",
   "execution_count": 17,
   "metadata": {},
   "outputs": [
    {
     "name": "stdout",
     "output_type": "stream",
     "text": [
      "enter stringhello\n"
     ]
    }
   ],
   "source": [
    "a=input(\"enter string\")"
   ]
  },
  {
   "cell_type": "code",
   "execution_count": 18,
   "metadata": {},
   "outputs": [
    {
     "data": {
      "text/plain": [
       "'hello'"
      ]
     },
     "execution_count": 18,
     "metadata": {},
     "output_type": "execute_result"
    }
   ],
   "source": [
    "a"
   ]
  },
  {
   "cell_type": "code",
   "execution_count": 21,
   "metadata": {},
   "outputs": [
    {
     "name": "stdout",
     "output_type": "stream",
     "text": [
      "hi guys\n",
      "good morning\n",
      "enter the namerani\n",
      "hi guys\n",
      "good morning\n",
      "enter the namereddy\n",
      "hi guys\n",
      "good morning\n",
      "enter the namey\n"
     ]
    }
   ],
   "source": [
    "while exit != \"y\":\n",
    "    print(\"hi guys\")\n",
    "    print(\"good morning\")\n",
    "    exit=input(\"enter the name\")"
   ]
  },
  {
   "cell_type": "code",
   "execution_count": 23,
   "metadata": {},
   "outputs": [
    {
     "name": "stdout",
     "output_type": "stream",
     "text": [
      "1\n",
      "2\n",
      "3\n",
      "4\n",
      "  \n",
      "1\n",
      "2\n",
      "3\n",
      "4\n",
      "  \n",
      "1\n",
      "2\n",
      "3\n",
      "4\n",
      "  \n",
      "1\n",
      "2\n",
      "3\n",
      "4\n",
      "  \n",
      "1\n",
      "2\n",
      "3\n",
      "4\n",
      "  \n",
      "1\n",
      "2\n",
      "3\n",
      "4\n",
      "  \n",
      "1\n",
      "2\n",
      "3\n",
      "4\n",
      "  \n",
      "1\n",
      "2\n",
      "3\n",
      "4\n",
      "  \n",
      "1\n",
      "2\n",
      "3\n",
      "4\n",
      "  \n"
     ]
    }
   ],
   "source": [
    "for a in range(1,10):\n",
    "    for b in range(1,5):\n",
    "        print(b)\n",
    "    print(\"  \")    "
   ]
  },
  {
   "cell_type": "markdown",
   "metadata": {},
   "source": [
    "# control statements"
   ]
  },
  {
   "cell_type": "code",
   "execution_count": 24,
   "metadata": {},
   "outputs": [],
   "source": [
    "#break =it is used for breaking the existing for loop\n",
    "#pass=place holder\n",
    "#continue=it is used for skipping the particular statement"
   ]
  },
  {
   "cell_type": "code",
   "execution_count": 25,
   "metadata": {},
   "outputs": [
    {
     "name": "stdout",
     "output_type": "stream",
     "text": [
      "1\n",
      "2\n",
      "3\n",
      "4\n",
      "5\n"
     ]
    }
   ],
   "source": [
    "for item in range (1,10):\n",
    "    print(item)\n",
    "    if(item==5):\n",
    "        break;"
   ]
  },
  {
   "cell_type": "code",
   "execution_count": 26,
   "metadata": {},
   "outputs": [
    {
     "name": "stdout",
     "output_type": "stream",
     "text": [
      "1\n",
      "2\n",
      "3\n",
      "4\n",
      "6\n",
      "7\n",
      "8\n",
      "9\n"
     ]
    }
   ],
   "source": [
    "for item in range (1,10):\n",
    "    if(item==5):\n",
    "        continue;\n",
    "    print(item)    "
   ]
  },
  {
   "cell_type": "code",
   "execution_count": 28,
   "metadata": {},
   "outputs": [],
   "source": [
    "for item in range(1,10):\n",
    "    pass"
   ]
  },
  {
   "cell_type": "code",
   "execution_count": null,
   "metadata": {},
   "outputs": [],
   "source": []
  }
 ],
 "metadata": {
  "kernelspec": {
   "display_name": "Python 3",
   "language": "python",
   "name": "python3"
  },
  "language_info": {
   "codemirror_mode": {
    "name": "ipython",
    "version": 3
   },
   "file_extension": ".py",
   "mimetype": "text/x-python",
   "name": "python",
   "nbconvert_exporter": "python",
   "pygments_lexer": "ipython3",
   "version": "3.8.5"
  }
 },
 "nbformat": 4,
 "nbformat_minor": 4
}
